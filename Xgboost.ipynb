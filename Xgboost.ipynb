{
 "cells": [
  {
   "cell_type": "code",
   "execution_count": 22,
   "metadata": {},
   "outputs": [
    {
     "name": "stdout",
     "output_type": "stream",
     "text": [
      "Model fitted successfully.\n",
      "XGBoost version: 1.7.6\n",
      "Model is not fitted: 'super' object has no attribute '__sklearn_tags__'\n"
     ]
    }
   ],
   "source": [
    "import globals as g\n",
    "df = g.pd.read_csv('data/Travel.csv')\n",
    "df.dropna(inplace=True)\n",
    "df.drop(['CustomerID'], axis=1, inplace=True)\n",
    "X = df.drop('ProdTaken', axis=1)\n",
    "y = df['ProdTaken']\n",
    "from sklearn.model_selection import train_test_split\n",
    "X_train, X_test, y_train, y_test = train_test_split(X, y, test_size=0.3, random_state=101)\n",
    "num = X_train.select_dtypes(include=['int64', 'float64']).columns\n",
    "cat = X_train.select_dtypes(include=['object']).columns\n",
    "from sklearn.preprocessing import LabelEncoder\n",
    "for col in cat:\n",
    "    le = LabelEncoder()\n",
    "    X_train[col] = le.fit_transform(X_train[col])  # Fit on train data\n",
    "    known_classes = set(le.classes_)\n",
    "    X_test[col] = X_test[col].apply(lambda x: x if x in known_classes else 'unknown')\n",
    "    le.classes_ = g.np.append(le.classes_, 'unknown')\n",
    "    X_test[col] = le.transform(X_test[col])\n",
    "from sklearn.preprocessing import StandardScaler\n",
    "sc = StandardScaler()\n",
    "for i in num:\n",
    "    X_train[i] = sc.fit_transform(X_train[[i]])\n",
    "    X_test[i] = sc.transform(X_test[[i]])\n",
    "from sklearn import config_context\n",
    "import xgboost as xgb\n",
    "with config_context(display=\"text\"):\n",
    "    model = xgb.XGBClassifier()\n",
    "    try:\n",
    "        model.fit(X_train, y_train)\n",
    "        print(\"Model fitted successfully.\")\n",
    "    except Exception as e:\n",
    "        print(\"Error in model training:\", e)\n",
    "print(\"XGBoost version:\", xgboost.__version__)\n",
    "from sklearn.utils.validation import check_is_fitted\n",
    "try:\n",
    "    check_is_fitted(model)\n",
    "    print(\"Model is fitted.\")\n",
    "except Exception as e:\n",
    "    print(\"Model is not fitted:\", e)\n"
   ]
  },
  {
   "cell_type": "code",
   "execution_count": 25,
   "metadata": {},
   "outputs": [
    {
     "data": {
      "text/plain": [
       "94.99596448748991"
      ]
     },
     "execution_count": 25,
     "metadata": {},
     "output_type": "execute_result"
    }
   ],
   "source": [
    "model.score(X_test, y_test)*100"
   ]
  },
  {
   "cell_type": "code",
   "execution_count": null,
   "metadata": {},
   "outputs": [],
   "source": []
  }
 ],
 "metadata": {
  "kernelspec": {
   "display_name": "Python 3",
   "language": "python",
   "name": "python3"
  },
  "language_info": {
   "codemirror_mode": {
    "name": "ipython",
    "version": 3
   },
   "file_extension": ".py",
   "mimetype": "text/x-python",
   "name": "python",
   "nbconvert_exporter": "python",
   "pygments_lexer": "ipython3",
   "version": "3.8.5"
  }
 },
 "nbformat": 4,
 "nbformat_minor": 4
}
